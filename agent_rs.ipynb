{
 "cells": [
  {
   "cell_type": "code",
   "execution_count": null,
   "id": "43589722",
   "metadata": {},
   "outputs": [],
   "source": [
    "import datasets\n",
    "import os, sys, random\n",
    "import dspy\n",
    "import recbole"
   ]
  },
  {
   "cell_type": "markdown",
   "id": "4e083ec6",
   "metadata": {},
   "source": [
    "## Load Amazon Review Dataset"
   ]
  },
  {
   "cell_type": "code",
   "execution_count": null,
   "id": "818bfe77",
   "metadata": {},
   "outputs": [],
   "source": []
  },
  {
   "cell_type": "markdown",
   "id": "26bc7f3f",
   "metadata": {},
   "source": [
    "## Train different recommendation models"
   ]
  },
  {
   "cell_type": "code",
   "execution_count": null,
   "id": "073f8bb3",
   "metadata": {},
   "outputs": [],
   "source": []
  },
  {
   "cell_type": "markdown",
   "id": "e7036846",
   "metadata": {},
   "source": [
    "### Save Models"
   ]
  },
  {
   "cell_type": "markdown",
   "id": "f374c2f8",
   "metadata": {},
   "source": [
    "## Load Models"
   ]
  },
  {
   "cell_type": "code",
   "execution_count": 1,
   "id": "05a67f6a",
   "metadata": {},
   "outputs": [
    {
     "name": "stderr",
     "output_type": "stream",
     "text": [
      "/home/sjc4fq/.conda/envs/pt124/lib/python3.11/site-packages/tqdm/auto.py:21: TqdmWarning: IProgress not found. Please update jupyter and ipywidgets. See https://ipywidgets.readthedocs.io/en/stable/user_install.html\n",
      "  from .autonotebook import tqdm as notebook_tqdm\n",
      "2025-08-26 16:36:20,948\tINFO util.py:159 -- Missing packages: ['ipywidgets']. Run `pip install -U ipywidgets`, then restart the notebook server for rich notebook output.\n",
      "2025-08-26 16:36:21,328\tINFO util.py:159 -- Missing packages: ['ipywidgets']. Run `pip install -U ipywidgets`, then restart the notebook server for rich notebook output.\n"
     ]
    },
    {
     "ename": "ImportError",
     "evalue": "cannot import name 'load_model' from 'recbole.quick_start' (/home/sjc4fq/.conda/envs/pt124/lib/python3.11/site-packages/recbole/quick_start/__init__.py)",
     "output_type": "error",
     "traceback": [
      "\u001b[31m---------------------------------------------------------------------------\u001b[39m",
      "\u001b[31mImportError\u001b[39m                               Traceback (most recent call last)",
      "\u001b[36mCell\u001b[39m\u001b[36m \u001b[39m\u001b[32mIn[1]\u001b[39m\u001b[32m, line 1\u001b[39m\n\u001b[32m----> \u001b[39m\u001b[32m1\u001b[39m \u001b[38;5;28;01mfrom\u001b[39;00m\u001b[38;5;250m \u001b[39m\u001b[34;01mrecbole\u001b[39;00m\u001b[34;01m.\u001b[39;00m\u001b[34;01mquick_start\u001b[39;00m\u001b[38;5;250m \u001b[39m\u001b[38;5;28;01mimport\u001b[39;00m load_model\n",
      "\u001b[31mImportError\u001b[39m: cannot import name 'load_model' from 'recbole.quick_start' (/home/sjc4fq/.conda/envs/pt124/lib/python3.11/site-packages/recbole/quick_start/__init__.py)"
     ]
    }
   ],
   "source": [
    "from recbole.quick_start import load_model"
   ]
  },
  {
   "cell_type": "markdown",
   "id": "c25090ad",
   "metadata": {},
   "source": [
    "###  Wrap as API calls"
   ]
  },
  {
   "cell_type": "markdown",
   "id": "8f23ca4e",
   "metadata": {},
   "source": [
    "## Define the Recall Agent"
   ]
  },
  {
   "cell_type": "markdown",
   "id": "cff88978",
   "metadata": {},
   "source": [
    "## Evaluation"
   ]
  },
  {
   "cell_type": "markdown",
   "id": "70987eb7",
   "metadata": {},
   "source": []
  }
 ],
 "metadata": {
  "kernelspec": {
   "display_name": "pt124",
   "language": "python",
   "name": "python3"
  },
  "language_info": {
   "codemirror_mode": {
    "name": "ipython",
    "version": 3
   },
   "file_extension": ".py",
   "mimetype": "text/x-python",
   "name": "python",
   "nbconvert_exporter": "python",
   "pygments_lexer": "ipython3",
   "version": "3.11.13"
  }
 },
 "nbformat": 4,
 "nbformat_minor": 5
}
